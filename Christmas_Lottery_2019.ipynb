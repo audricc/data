{
  "nbformat": 4,
  "nbformat_minor": 0,
  "metadata": {
    "colab": {
      "name": "Christmas Lottery 2019.ipynb",
      "provenance": [],
      "collapsed_sections": [],
      "include_colab_link": true
    },
    "kernelspec": {
      "name": "python3",
      "display_name": "Python 3"
    }
  },
  "cells": [
    {
      "cell_type": "markdown",
      "metadata": {
        "id": "view-in-github",
        "colab_type": "text"
      },
      "source": [
        "<a href=\"https://colab.research.google.com/github/audricc/data/blob/master/Christmas_Lottery_2019.ipynb\" target=\"_parent\"><img src=\"https://colab.research.google.com/assets/colab-badge.svg\" alt=\"Open In Colab\"/></a>"
      ]
    },
    {
      "cell_type": "code",
      "metadata": {
        "id": "Cs9lcEN7OXRq",
        "colab_type": "code",
        "outputId": "b7a09609-5409-4958-d371-675a1bb3ec7b",
        "colab": {
          "base_uri": "https://localhost:8080/",
          "height": 187
        }
      },
      "source": [
        "# adults\n",
        "people = ['Al', 'Audric', 'Carolyn', 'Cate', 'Gregg', 'Jeff', 'Julia', 'Meryl']\n",
        "spouses = {\n",
        "    'Al':'Carolyn', \n",
        "    'Audric':'Julia', \n",
        "    'Carolyn':'Al', \n",
        "    'Cate':'Jeff', \n",
        "    'Gregg':'Meryl', \n",
        "    'Jeff':'Cate', \n",
        "    'Julia':'Audric', \n",
        "    'Meryl':'Gregg'\n",
        "}\n",
        "previous_year = {\n",
        "    'Al':'Gregg', \n",
        "    'Audric':'Meryl', \n",
        "    'Carolyn':'Julia', \n",
        "    'Cate':'Al', \n",
        "    'Gregg':'Carolyn', \n",
        "    'Jeff':'Audric', \n",
        "    'Julia':'Jeff', \n",
        "    'Meryl':'Cate'\n",
        "}\n",
        "\n",
        "valid_draw = False\n",
        "n = 0\n",
        "\n",
        "while valid_draw is False:\n",
        "    # random permutation\n",
        "    n += 1\n",
        "    draws = [people[k] for k in permutation(range(len(people)))]\n",
        "\n",
        "    # verification\n",
        "    invalid_permutation = 0\n",
        "    for k in range(len(people)):\n",
        "        gifter = people[k]\n",
        "        receiver = draws[k]\n",
        "        if (receiver == gifter) | (receiver == spouses[gifter]) | (receiver == previous_year[gifter]):\n",
        "            invalid_permutation += 1 \n",
        "    if invalid_permutation == 0:\n",
        "        valid_draw = True\n",
        "\n",
        "print('final draw:')\n",
        "for k in range(len(people)):\n",
        "    gifter = people[k]\n",
        "    receiver = draws[k]\n",
        "    print(\"\"\"{0} picks a present for {1}\"\"\".format(gifter, receiver))\n",
        "print('number of attempts = {0}'.format(n))"
      ],
      "execution_count": 0,
      "outputs": [
        {
          "output_type": "stream",
          "text": [
            "final draw:\n",
            "Al picks a present for Jeff\n",
            "Audric picks a present for Carolyn\n",
            "Carolyn picks a present for Gregg\n",
            "Cate picks a present for Julia\n",
            "Gregg picks a present for Al\n",
            "Jeff picks a present for Meryl\n",
            "Julia picks a present for Cate\n",
            "Meryl picks a present for Audric\n",
            "number of attempts = 18\n"
          ],
          "name": "stdout"
        }
      ]
    },
    {
      "cell_type": "code",
      "metadata": {
        "id": "4y4gddDYOWhn",
        "colab_type": "code",
        "colab": {}
      },
      "source": [
        "import numpy as np\n",
        "import pandas as pd\n",
        "from copy import deepcopy\n",
        "from numpy.random import permutation"
      ],
      "execution_count": 0,
      "outputs": []
    },
    {
      "cell_type": "code",
      "metadata": {
        "id": "wBJglmPKOZXv",
        "colab_type": "code",
        "outputId": "a32999af-123d-4883-d158-b05f52c01658",
        "colab": {
          "base_uri": "https://localhost:8080/",
          "height": 153
        }
      },
      "source": [
        "# kiddos\n",
        "people = ['Birdie', 'Clara', 'Eric', 'Gabin', 'Gia', 'Hazel']\n",
        "siblings = {\n",
        "    'Birdie':['Hazel'],\n",
        "    'Clara':['Eric', 'Gabin'],\n",
        "    'Eric':['Clara', 'Gabin'],\n",
        "    'Gabin':['Clara', 'Eric'],\n",
        "    'Gia':[],\n",
        "    'Hazel':['Birdie']\n",
        "}\n",
        "previous_year = {\n",
        "    'Birdie':'Clara',\n",
        "    'Clara':'Hazel',\n",
        "    'Eric':'Birdie',\n",
        "    'Gabin':None,\n",
        "    'Gia':'Eric',\n",
        "    'Hazel':'Gia'\n",
        "}\n",
        "\n",
        "valid_draw = False\n",
        "n = 0\n",
        "\n",
        "while valid_draw is False:\n",
        "    # random permutation\n",
        "    n += 1\n",
        "    draws = [people[k] for k in permutation(range(len(people)))]\n",
        "\n",
        "    # verification\n",
        "    invalid_permutation = 0\n",
        "    for k in range(len(people)):\n",
        "        gifter = people[k]\n",
        "        receiver = draws[k]\n",
        "        if (receiver == gifter) | (receiver in siblings[gifter]) | (receiver == previous_year[gifter]):\n",
        "            invalid_permutation += 1 \n",
        "    if invalid_permutation == 0:\n",
        "        valid_draw = True\n",
        "\n",
        "print('final draw:')\n",
        "for k in range(len(people)):\n",
        "    gifter = people[k]\n",
        "    receiver = draws[k]\n",
        "    print(\"\"\"{0} picks a present for {1}\"\"\".format(gifter, receiver))\n",
        "print('number of attempts = {0}'.format(n))"
      ],
      "execution_count": 0,
      "outputs": [
        {
          "output_type": "stream",
          "text": [
            "final draw:\n",
            "Birdie picks a present for Eric\n",
            "Clara picks a present for Birdie\n",
            "Eric picks a present for Gia\n",
            "Gabin picks a present for Hazel\n",
            "Gia picks a present for Gabin\n",
            "Hazel picks a present for Clara\n",
            "number of attempts = 238\n"
          ],
          "name": "stdout"
        }
      ]
    },
    {
      "cell_type": "code",
      "metadata": {
        "id": "tdHn6YuNOb61",
        "colab_type": "code",
        "colab": {}
      },
      "source": [
        ""
      ],
      "execution_count": 0,
      "outputs": []
    }
  ]
}